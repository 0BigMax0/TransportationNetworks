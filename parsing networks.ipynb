{
 "cells": [
  {
   "cell_type": "code",
   "execution_count": 3,
   "metadata": {},
   "outputs": [],
   "source": [
    "import sys\n",
    "sys.path.append('D:/src/aequilibrae')\n",
    "import os\n",
    "import sys\n",
    "import numpy as np\n",
    "import pandas as pd\n",
    "import openmatrix as omx\n",
    "from aequilibrae.matrix import AequilibraeMatrix\n",
    "from aequilibrae.paths import Graph"
   ]
  },
  {
   "cell_type": "code",
   "execution_count": 4,
   "metadata": {},
   "outputs": [],
   "source": [
    "root = 'D:\\src\\TransportationNetworks'"
   ]
  },
  {
   "cell_type": "code",
   "execution_count": 5,
   "metadata": {},
   "outputs": [],
   "source": [
    "folders = [x for x in os.listdir(root)[1:] if os.path.isdir(os.path.join(root, x))]"
   ]
  },
  {
   "cell_type": "code",
   "execution_count": 6,
   "metadata": {
    "code_folding": []
   },
   "outputs": [],
   "source": [
    "def import_matrix(matfile, do_omx=True, do_aem=True):\n",
    "    f = open(matfile, 'r')\n",
    "    all_rows = f.read()\n",
    "    blocks = all_rows.split('Origin')[1:]\n",
    "    matrix = {}\n",
    "    for k in range(len(blocks)):\n",
    "        orig = blocks[k].split('\\n')\n",
    "        dests = orig[1:]\n",
    "        orig=int(orig[0])\n",
    "\n",
    "        d = [eval('{'+a.replace(';',',').replace(' ','') +'}') for a in dests]\n",
    "        destinations = {}\n",
    "        for i in d:\n",
    "            destinations = {**destinations, **i}\n",
    "        matrix[orig] = destinations\n",
    "    zones = max(matrix.keys())\n",
    "    mat = np.zeros((zones, zones))\n",
    "    for i in range(zones):\n",
    "        for j in range(zones):\n",
    "            mat[i, j] = matrix.get(i+1,{}).get(j+1,0)\n",
    "\n",
    "    index = np.arange(zones) + 1\n",
    "    \n",
    "    if do_omx:\n",
    "        myfile = omx.open_file('demand.omx','w')\n",
    "        myfile['matrix'] = mat\n",
    "        myfile.create_mapping('taz', index)\n",
    "        myfile.close()\n",
    "\n",
    "    if do_aem:\n",
    "        aem = AequilibraeMatrix()\n",
    "\n",
    "        kwargs = {'file_name': 'demand.aem',\n",
    "                  'zones': zones,\n",
    "                  'matrix_names': ['matrix']}\n",
    "\n",
    "        aem.create_empty(**kwargs)\n",
    "        aem.matrix['matrix'][:,:] = mat[:,:]\n",
    "        aem.index[:] = index[:]\n",
    "        aem.close()\n",
    "    return index"
   ]
  },
  {
   "cell_type": "code",
   "execution_count": 8,
   "metadata": {
    "code_folding": []
   },
   "outputs": [],
   "source": [
    "def import_networks(netfile, index):\n",
    "    \n",
    "    if 'Anaheim' in netfile:\n",
    "        data_fields = ['tail', 'head', 'free flow time (min)', 'capacity (veh/h)' ]\n",
    "    elif 'Birmingham' in netfile:\n",
    "        data_fields = ['from', 'to', 'free flow time', 'capacity' ]\n",
    "    elif 'ChicagoSketch' in netfile:\n",
    "        data_fields = ['tail node', 'head node', 'fftt(min)', 'capacity (veh/h)']\n",
    "    elif 'Philadelphia_net' in netfile or 'ChicagoRegional_net' in netfile:\n",
    "        data_fields = ['from', 'to', 'ftime', 'capacity']\n",
    "    elif 'Sydney_net' in netfile:\n",
    "        data_fields = ['from', 'to', 'fftt (min)', 'total capacity']\n",
    "    else:\n",
    "        data_fields = ['init node', 'term node', 'free flow time', 'capacity']\n",
    "        \n",
    "    \n",
    "    net = pd.read_csv(netfile, skiprows=7, sep='\\t')\n",
    "    \n",
    "    \n",
    "    trimmed= [s.strip().lower() for s in net.columns]\n",
    "    net.columns = trimmed\n",
    "    \n",
    "    network = net[data_fields]\n",
    "    network.columns = ['a_node', 'b_node', 'time', 'capacity']\n",
    "    network = network.assign(direction=1)\n",
    "    network = network.assign(link_id=np.arange(1,network['time'].values.shape[0]+1))\n",
    "    \n",
    "    g = Graph()\n",
    "    g.cost = network['time'].values\n",
    "    g.capacity = network['capacity'].values\n",
    "    g.free_flow_time = network['time'].values\n",
    "    g.network = network.to_records(index=False)\n",
    "    g.network_ok = True\n",
    "    g.status = 'OK'\n",
    "    g.prepare_graph(index)\n",
    "    g.graph\n",
    "    g.save_to_disk('graph.aeg')"
   ]
  },
  {
   "cell_type": "code",
   "execution_count": null,
   "metadata": {
    "code_folding": [],
    "scrolled": true
   },
   "outputs": [
    {
     "name": "stdout",
     "output_type": "stream",
     "text": [
      "ANAHEIM\n",
      "    trips\n",
      "    networks\n",
      "AUSTIN\n",
      "    trips\n"
     ]
    }
   ],
   "source": [
    "for f in folders:\n",
    "    mod = os.path.join(root, f)\n",
    "    os.chdir(mod)\n",
    "    mod_files = os.listdir('.')\n",
    "    print(f.upper())\n",
    "\n",
    "    for i in mod_files:\n",
    "        if 'TRIPS' in i.upper() and i.lower()[-5:]=='.tntp':\n",
    "            print('    trips')\n",
    "            index = import_matrix(i)\n",
    "\n",
    "    for i in mod_files:\n",
    "        if '_NET.' in i.upper() and i.lower()[-5:]=='.tntp':\n",
    "            print('    networks')\n",
    "            import_networks(i, index)"
   ]
  }
 ],
 "metadata": {
  "kernelspec": {
   "display_name": "Python 3",
   "language": "python",
   "name": "python3"
  },
  "language_info": {
   "codemirror_mode": {
    "name": "ipython",
    "version": 3
   },
   "file_extension": ".py",
   "mimetype": "text/x-python",
   "name": "python",
   "nbconvert_exporter": "python",
   "pygments_lexer": "ipython3",
   "version": "3.7.4"
  }
 },
 "nbformat": 4,
 "nbformat_minor": 4
}

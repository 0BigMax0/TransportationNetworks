{
 "cells": [
  {
   "cell_type": "markdown",
   "metadata": {},
   "source": [
    "# How to load TransportationNetworks data in Julia\n",
    "\n",
    "In Julia, loading a network data is as simple as \n",
    "\n",
    "```julia\n",
    "using TrafficAssignment \n",
    "td = load_ta_network(\"Anaheim\")\n",
    "```\n",
    "\n",
    "This will automatically download datasets from the [TransportationNetworks github repository](https://github.com/bstabler/TransportationNetworks). See [TrafficAssignment.jl](https://github.com/chkwon/TrafficAssignment.jl) for the details of the package.\n",
    "\n",
    "A step-by-step guideline follows."
   ]
  },
  {
   "cell_type": "code",
   "execution_count": 1,
   "metadata": {},
   "outputs": [
    {
     "name": "stdout",
     "output_type": "stream",
     "text": [
      "\u001b[32m\u001b[1m  Updating\u001b[22m\u001b[39m registry at `~/.julia/registries/General`\n",
      "\u001b[32m\u001b[1m  Updating\u001b[22m\u001b[39m git-repo `https://github.com/JuliaRegistries/General.git`\n",
      "\u001b[?25l\u001b[2K\u001b[?25h\u001b[32m\u001b[1m Resolving\u001b[22m\u001b[39m package versions...\n",
      "\u001b[32m\u001b[1m  Updating\u001b[22m\u001b[39m `~/.julia/environments/v1.3/Project.toml`\n",
      "\u001b[90m [no changes]\u001b[39m\n",
      "\u001b[32m\u001b[1m  Updating\u001b[22m\u001b[39m `~/.julia/environments/v1.3/Manifest.toml`\n",
      "\u001b[90m [no changes]\u001b[39m\n",
      "\u001b[32m\u001b[1m    Status\u001b[22m\u001b[39m `~/.julia/environments/v1.3/Project.toml`\n",
      " \u001b[90m [7c4d4715]\u001b[39m\u001b[37m AmplNLWriter v0.5.0\u001b[39m\n",
      " \u001b[90m [c52e3926]\u001b[39m\u001b[37m Atom v0.12.6\u001b[39m\n",
      " \u001b[90m [a93c6f00]\u001b[39m\u001b[37m DataFrames v0.20.2\u001b[39m\n",
      " \u001b[90m [60bf3e95]\u001b[39m\u001b[37m GLPK v0.12.1\u001b[39m\n",
      " \u001b[90m [7073ff75]\u001b[39m\u001b[37m IJulia v1.21.1\u001b[39m\n",
      " \u001b[90m [b6b21f68]\u001b[39m\u001b[37m Ipopt v0.6.1\u001b[39m\n",
      " \u001b[90m [4076af6c]\u001b[39m\u001b[37m JuMP v0.21.1\u001b[39m\n",
      " \u001b[90m [e5e0dc1b]\u001b[39m\u001b[37m Juno v0.8.0\u001b[39m\n",
      " \u001b[90m [8d10db4a]\u001b[39m\u001b[37m PATH v0.1.0 #master (https://github.com/odow/PATH.jl)\u001b[39m\n",
      " \u001b[90m [eadc2687]\u001b[39m\u001b[37m Pandas v1.4.0\u001b[39m\n",
      " \u001b[90m [438e738f]\u001b[39m\u001b[37m PyCall v1.91.3\u001b[39m\n",
      " \u001b[90m [735ffce8]\u001b[39m\u001b[37m TrafficAssignment v0.6.0\u001b[39m\n"
     ]
    }
   ],
   "source": [
    "# Install TrafficAssignment.jl package\n",
    "using Pkg\n",
    "Pkg.add(\"TrafficAssignment\")\n",
    "Pkg.status() \n",
    "\n",
    "# Julia v1.0+ and TrafficAssignment v0.6.0+ is required. "
   ]
  },
  {
   "cell_type": "code",
   "execution_count": 2,
   "metadata": {},
   "outputs": [
    {
     "name": "stderr",
     "output_type": "stream",
     "text": [
      "┌ Info: Precompiling TrafficAssignment [735ffce8-66c7-5b61-a90f-89c46d1a79d5]\n",
      "└ @ Base loading.jl:1273\n"
     ]
    },
    {
     "name": "stdout",
     "output_type": "stream",
     "text": [
      "Archive:  /Users/chkwon/.julia/packages/TrafficAssignment/Sk7te/tntp.zip\n",
      "f730be5e3366e910bb7e9ada4665d32e9cbc219b\n",
      "   creating: /Users/chkwon/.julia/packages/TrafficAssignment/Sk7te/TransportationNetworks-f730be5e3366e910bb7e9ada4665d32e9cbc219b/\n",
      "   creating: /Users/chkwon/.julia/packages/TrafficAssignment/Sk7te/TransportationNetworks-f730be5e3366e910bb7e9ada4665d32e9cbc219b/Anaheim/\n",
      "  inflating: /Users/chkwon/.julia/packages/TrafficAssignment/Sk7te/TransportationNetworks-f730be5e3366e910bb7e9ada4665d32e9cbc219b/Anaheim/AnaheimNetwork.pdf  \n",
      "  inflating: /Users/chkwon/.julia/packages/TrafficAssignment/Sk7te/TransportationNetworks-f730be5e3366e910bb7e9ada4665d32e9cbc219b/Anaheim/Anaheim_flow.tntp  \n",
      "  inflating: /Users/chkwon/.julia/packages/TrafficAssignment/Sk7te/TransportationNetworks-f730be5e3366e910bb7e9ada4665d32e9cbc219b/Anaheim/Anaheim_net.tntp  \n",
      "  inflating: /Users/chkwon/.julia/packages/TrafficAssignment/Sk7te/TransportationNetworks-f730be5e3366e910bb7e9ada4665d32e9cbc219b/Anaheim/Anaheim_trips.tntp  \n",
      "  inflating: /Users/chkwon/.julia/packages/TrafficAssignment/Sk7te/TransportationNetworks-f730be5e3366e910bb7e9ada4665d32e9cbc219b/Anaheim/README.md  \n",
      "   creating: /Users/chkwon/.julia/packages/TrafficAssignment/Sk7te/TransportationNetworks-f730be5e3366e910bb7e9ada4665d32e9cbc219b/Austin/\n",
      "  inflating: /Users/chkwon/.julia/packages/TrafficAssignment/Sk7te/TransportationNetworks-f730be5e3366e910bb7e9ada4665d32e9cbc219b/Austin/Austin Flow Map 1 12-15-08.jpg  \n",
      "  inflating: /Users/chkwon/.julia/packages/TrafficAssignment/Sk7te/TransportationNetworks-f730be5e3366e910bb7e9ada4665d32e9cbc219b/Austin/Austin_net.tntp  \n",
      "  inflating: /Users/chkwon/.julia/packages/TrafficAssignment/Sk7te/TransportationNetworks-f730be5e3366e910bb7e9ada4665d32e9cbc219b/Austin/Austin_trips_am.tntp  \n",
      "  inflating: /Users/chkwon/.julia/packages/TrafficAssignment/Sk7te/TransportationNetworks-f730be5e3366e910bb7e9ada4665d32e9cbc219b/Austin/README.md  \n",
      "   creating: /Users/chkwon/.julia/packages/TrafficAssignment/Sk7te/TransportationNetworks-f730be5e3366e910bb7e9ada4665d32e9cbc219b/Barcelona/\n",
      "  inflating: /Users/chkwon/.julia/packages/TrafficAssignment/Sk7te/TransportationNetworks-f730be5e3366e910bb7e9ada4665d32e9cbc219b/Barcelona/Barcelona_flow.tntp  \n",
      "  inflating: /Users/chkwon/.julia/packages/TrafficAssignment/Sk7te/TransportationNetworks-f730be5e3366e910bb7e9ada4665d32e9cbc219b/Barcelona/Barcelona_net.tntp  \n",
      "  inflating: /Users/chkwon/.julia/packages/TrafficAssignment/Sk7te/TransportationNetworks-f730be5e3366e910bb7e9ada4665d32e9cbc219b/Barcelona/Barcelona_trips.tntp  \n",
      "  inflating: /Users/chkwon/.julia/packages/TrafficAssignment/Sk7te/TransportationNetworks-f730be5e3366e910bb7e9ada4665d32e9cbc219b/Barcelona/README.md  \n",
      "   creating: /Users/chkwon/.julia/packages/TrafficAssignment/Sk7te/TransportationNetworks-f730be5e3366e910bb7e9ada4665d32e9cbc219b/Berlin-Center/\n",
      "  inflating: /Users/chkwon/.julia/packages/TrafficAssignment/Sk7te/TransportationNetworks-f730be5e3366e910bb7e9ada4665d32e9cbc219b/Berlin-Center/README.md  \n",
      "  inflating: /Users/chkwon/.julia/packages/TrafficAssignment/Sk7te/TransportationNetworks-f730be5e3366e910bb7e9ada4665d32e9cbc219b/Berlin-Center/berlin-center_Node-Conversion.txt  \n",
      "  inflating: /Users/chkwon/.julia/packages/TrafficAssignment/Sk7te/TransportationNetworks-f730be5e3366e910bb7e9ada4665d32e9cbc219b/Berlin-Center/berlin-center_net.tntp  \n",
      "  inflating: /Users/chkwon/.julia/packages/TrafficAssignment/Sk7te/TransportationNetworks-f730be5e3366e910bb7e9ada4665d32e9cbc219b/Berlin-Center/berlin-center_node.tntp  \n",
      "  inflating: /Users/chkwon/.julia/packages/TrafficAssignment/Sk7te/TransportationNetworks-f730be5e3366e910bb7e9ada4665d32e9cbc219b/Berlin-Center/berlin-center_trips.tntp  \n",
      "   creating: /Users/chkwon/.julia/packages/TrafficAssignment/Sk7te/TransportationNetworks-f730be5e3366e910bb7e9ada4665d32e9cbc219b/Berlin-Friedrichshain/\n",
      "  inflating: /Users/chkwon/.julia/packages/TrafficAssignment/Sk7te/TransportationNetworks-f730be5e3366e910bb7e9ada4665d32e9cbc219b/Berlin-Friedrichshain/README.md  \n",
      "  inflating: /Users/chkwon/.julia/packages/TrafficAssignment/Sk7te/TransportationNetworks-f730be5e3366e910bb7e9ada4665d32e9cbc219b/Berlin-Friedrichshain/friedrichshain-center_Node-Conversion.txt  \n",
      "  inflating: /Users/chkwon/.julia/packages/TrafficAssignment/Sk7te/TransportationNetworks-f730be5e3366e910bb7e9ada4665d32e9cbc219b/Berlin-Friedrichshain/friedrichshain-center_net.tntp  \n",
      "  inflating: /Users/chkwon/.julia/packages/TrafficAssignment/Sk7te/TransportationNetworks-f730be5e3366e910bb7e9ada4665d32e9cbc219b/Berlin-Friedrichshain/friedrichshain-center_node.tntp  \n",
      "  inflating: /Users/chkwon/.julia/packages/TrafficAssignment/Sk7te/TransportationNetworks-f730be5e3366e910bb7e9ada4665d32e9cbc219b/Berlin-Friedrichshain/friedrichshain-center_trips.tntp  \n",
      "   creating: /Users/chkwon/.julia/packages/TrafficAssignment/Sk7te/TransportationNetworks-f730be5e3366e910bb7e9ada4665d32e9cbc219b/Berlin-Mitte-Center/\n",
      "  inflating: /Users/chkwon/.julia/packages/TrafficAssignment/Sk7te/TransportationNetworks-f730be5e3366e910bb7e9ada4665d32e9cbc219b/Berlin-Mitte-Center/README.md  \n",
      "  inflating: /Users/chkwon/.julia/packages/TrafficAssignment/Sk7te/TransportationNetworks-f730be5e3366e910bb7e9ada4665d32e9cbc219b/Berlin-Mitte-Center/berlin-mitte-center_Node-Conversion.txt  \n",
      "  inflating: /Users/chkwon/.julia/packages/TrafficAssignment/Sk7te/TransportationNetworks-f730be5e3366e910bb7e9ada4665d32e9cbc219b/Berlin-Mitte-Center/berlin-mitte-center_net.tntp  \n",
      "  inflating: /Users/chkwon/.julia/packages/TrafficAssignment/Sk7te/TransportationNetworks-f730be5e3366e910bb7e9ada4665d32e9cbc219b/Berlin-Mitte-Center/berlin-mitte-center_node.tntp  \n",
      "  inflating: /Users/chkwon/.julia/packages/TrafficAssignment/Sk7te/TransportationNetworks-f730be5e3366e910bb7e9ada4665d32e9cbc219b/Berlin-Mitte-Center/berlin-mitte-center_trips.tntp  \n",
      "   creating: /Users/chkwon/.julia/packages/TrafficAssignment/Sk7te/TransportationNetworks-f730be5e3366e910bb7e9ada4665d32e9cbc219b/Berlin-Mitte-Prenzlauerberg-Friedrichshain-Center/\n",
      "  inflating: /Users/chkwon/.julia/packages/TrafficAssignment/Sk7te/TransportationNetworks-f730be5e3366e910bb7e9ada4665d32e9cbc219b/Berlin-Mitte-Prenzlauerberg-Friedrichshain-Center/README.md  \n",
      "  inflating: /Users/chkwon/.julia/packages/TrafficAssignment/Sk7te/TransportationNetworks-f730be5e3366e910bb7e9ada4665d32e9cbc219b/Berlin-Mitte-Prenzlauerberg-Friedrichshain-Center/berlin-mitte-prenzlauerberg-friedrichshain-center_Node-Conversion.txt  \n",
      "  inflating: /Users/chkwon/.julia/packages/TrafficAssignment/Sk7te/TransportationNetworks-f730be5e3366e910bb7e9ada4665d32e9cbc219b/Berlin-Mitte-Prenzlauerberg-Friedrichshain-Center/berlin-mitte-prenzlauerberg-friedrichshain-center_net.tntp  \n",
      "  inflating: /Users/chkwon/.julia/packages/TrafficAssignment/Sk7te/TransportationNetworks-f730be5e3366e910bb7e9ada4665d32e9cbc219b/Berlin-Mitte-Prenzlauerberg-Friedrichshain-Center/berlin-mitte-prenzlauerberg-friedrichshain-center_node.tntp  \n",
      "  inflating: /Users/chkwon/.julia/packages/TrafficAssignment/Sk7te/TransportationNetworks-f730be5e3366e910bb7e9ada4665d32e9cbc219b/Berlin-Mitte-Prenzlauerberg-Friedrichshain-Center/berlin-mitte-prenzlauerberg-friedrichshain-center_trips.tntp  \n",
      "   creating: /Users/chkwon/.julia/packages/TrafficAssignment/Sk7te/TransportationNetworks-f730be5e3366e910bb7e9ada4665d32e9cbc219b/Berlin-Prenzlauerberg-Center/\n",
      "  inflating: /Users/chkwon/.julia/packages/TrafficAssignment/Sk7te/TransportationNetworks-f730be5e3366e910bb7e9ada4665d32e9cbc219b/Berlin-Prenzlauerberg-Center/README.md  \n",
      "  inflating: /Users/chkwon/.julia/packages/TrafficAssignment/Sk7te/TransportationNetworks-f730be5e3366e910bb7e9ada4665d32e9cbc219b/Berlin-Prenzlauerberg-Center/berlin-prenzlauerberg-center_Node-Conversion.txt  \n",
      "  inflating: /Users/chkwon/.julia/packages/TrafficAssignment/Sk7te/TransportationNetworks-f730be5e3366e910bb7e9ada4665d32e9cbc219b/Berlin-Prenzlauerberg-Center/berlin-prenzlauerberg-center_net.tntp  \n",
      "  inflating: /Users/chkwon/.julia/packages/TrafficAssignment/Sk7te/TransportationNetworks-f730be5e3366e910bb7e9ada4665d32e9cbc219b/Berlin-Prenzlauerberg-Center/berlin-prenzlauerberg-center_node.tntp  \n",
      "  inflating: /Users/chkwon/.julia/packages/TrafficAssignment/Sk7te/TransportationNetworks-f730be5e3366e910bb7e9ada4665d32e9cbc219b/Berlin-Prenzlauerberg-Center/berlin-prenzlauerberg-center_trips.tntp  \n",
      "   creating: /Users/chkwon/.julia/packages/TrafficAssignment/Sk7te/TransportationNetworks-f730be5e3366e910bb7e9ada4665d32e9cbc219b/Berlin-Tiergarten/\n",
      "  inflating: /Users/chkwon/.julia/packages/TrafficAssignment/Sk7te/TransportationNetworks-f730be5e3366e910bb7e9ada4665d32e9cbc219b/Berlin-Tiergarten/README.md  \n",
      "  inflating: /Users/chkwon/.julia/packages/TrafficAssignment/Sk7te/TransportationNetworks-f730be5e3366e910bb7e9ada4665d32e9cbc219b/Berlin-Tiergarten/berlin-tiergarten_Node-Conversion.txt  \n",
      "  inflating: /Users/chkwon/.julia/packages/TrafficAssignment/Sk7te/TransportationNetworks-f730be5e3366e910bb7e9ada4665d32e9cbc219b/Berlin-Tiergarten/berlin-tiergarten_net.tntp  \n",
      "  inflating: /Users/chkwon/.julia/packages/TrafficAssignment/Sk7te/TransportationNetworks-f730be5e3366e910bb7e9ada4665d32e9cbc219b/Berlin-Tiergarten/berlin-tiergarten_node.tntp  \n",
      "  inflating: /Users/chkwon/.julia/packages/TrafficAssignment/Sk7te/TransportationNetworks-f730be5e3366e910bb7e9ada4665d32e9cbc219b/Berlin-Tiergarten/berlin-tiergarten_trips.tntp  \n",
      "   creating: /Users/chkwon/.julia/packages/TrafficAssignment/Sk7te/TransportationNetworks-f730be5e3366e910bb7e9ada4665d32e9cbc219b/Birmingham-England/\n",
      "  inflating: /Users/chkwon/.julia/packages/TrafficAssignment/Sk7te/TransportationNetworks-f730be5e3366e910bb7e9ada4665d32e9cbc219b/Birmingham-England/Birmingham_Net.tntp  \n",
      "  inflating: /Users/chkwon/.julia/packages/TrafficAssignment/Sk7te/TransportationNetworks-f730be5e3366e910bb7e9ada4665d32e9cbc219b/Birmingham-England/Birmingham_Nodes.tntp  \n"
     ]
    },
    {
     "name": "stdout",
     "output_type": "stream",
     "text": [
      "  inflating: /Users/chkwon/.julia/packages/TrafficAssignment/Sk7te/TransportationNetworks-f730be5e3366e910bb7e9ada4665d32e9cbc219b/Birmingham-England/Birmingham_Trips.tntp  \n",
      "  inflating: /Users/chkwon/.julia/packages/TrafficAssignment/Sk7te/TransportationNetworks-f730be5e3366e910bb7e9ada4665d32e9cbc219b/Birmingham-England/README.md  \n",
      "   creating: /Users/chkwon/.julia/packages/TrafficAssignment/Sk7te/TransportationNetworks-f730be5e3366e910bb7e9ada4665d32e9cbc219b/Braess-Example/\n",
      "  inflating: /Users/chkwon/.julia/packages/TrafficAssignment/Sk7te/TransportationNetworks-f730be5e3366e910bb7e9ada4665d32e9cbc219b/Braess-Example/Braess_net.tntp  \n",
      "  inflating: /Users/chkwon/.julia/packages/TrafficAssignment/Sk7te/TransportationNetworks-f730be5e3366e910bb7e9ada4665d32e9cbc219b/Braess-Example/Braess_trips.tntp  \n",
      "  inflating: /Users/chkwon/.julia/packages/TrafficAssignment/Sk7te/TransportationNetworks-f730be5e3366e910bb7e9ada4665d32e9cbc219b/Braess-Example/README.md  \n",
      "   creating: /Users/chkwon/.julia/packages/TrafficAssignment/Sk7te/TransportationNetworks-f730be5e3366e910bb7e9ada4665d32e9cbc219b/Chicago-Sketch/\n",
      "  inflating: /Users/chkwon/.julia/packages/TrafficAssignment/Sk7te/TransportationNetworks-f730be5e3366e910bb7e9ada4665d32e9cbc219b/Chicago-Sketch/ChicagoSketch_flow.tntp  \n",
      "  inflating: /Users/chkwon/.julia/packages/TrafficAssignment/Sk7te/TransportationNetworks-f730be5e3366e910bb7e9ada4665d32e9cbc219b/Chicago-Sketch/ChicagoSketch_net.tntp  \n",
      "  inflating: /Users/chkwon/.julia/packages/TrafficAssignment/Sk7te/TransportationNetworks-f730be5e3366e910bb7e9ada4665d32e9cbc219b/Chicago-Sketch/ChicagoSketch_node.tntp  \n",
      "  inflating: /Users/chkwon/.julia/packages/TrafficAssignment/Sk7te/TransportationNetworks-f730be5e3366e910bb7e9ada4665d32e9cbc219b/Chicago-Sketch/ChicagoSketch_trips.tntp  \n",
      "  inflating: /Users/chkwon/.julia/packages/TrafficAssignment/Sk7te/TransportationNetworks-f730be5e3366e910bb7e9ada4665d32e9cbc219b/Chicago-Sketch/README.md  \n",
      "   creating: /Users/chkwon/.julia/packages/TrafficAssignment/Sk7te/TransportationNetworks-f730be5e3366e910bb7e9ada4665d32e9cbc219b/Eastern-Massachusetts/\n",
      "  inflating: /Users/chkwon/.julia/packages/TrafficAssignment/Sk7te/TransportationNetworks-f730be5e3366e910bb7e9ada4665d32e9cbc219b/Eastern-Massachusetts/EMA_entire.png  \n",
      "  inflating: /Users/chkwon/.julia/packages/TrafficAssignment/Sk7te/TransportationNetworks-f730be5e3366e910bb7e9ada4665d32e9cbc219b/Eastern-Massachusetts/EMA_highway.jpg  \n",
      "  inflating: /Users/chkwon/.julia/packages/TrafficAssignment/Sk7te/TransportationNetworks-f730be5e3366e910bb7e9ada4665d32e9cbc219b/Eastern-Massachusetts/EMA_intro.pdf  \n",
      "  inflating: /Users/chkwon/.julia/packages/TrafficAssignment/Sk7te/TransportationNetworks-f730be5e3366e910bb7e9ada4665d32e9cbc219b/Eastern-Massachusetts/EMA_net.tntp  \n",
      "  inflating: /Users/chkwon/.julia/packages/TrafficAssignment/Sk7te/TransportationNetworks-f730be5e3366e910bb7e9ada4665d32e9cbc219b/Eastern-Massachusetts/EMA_trips.tntp  \n",
      "  inflating: /Users/chkwon/.julia/packages/TrafficAssignment/Sk7te/TransportationNetworks-f730be5e3366e910bb7e9ada4665d32e9cbc219b/Eastern-Massachusetts/README.md  \n",
      "   creating: /Users/chkwon/.julia/packages/TrafficAssignment/Sk7te/TransportationNetworks-f730be5e3366e910bb7e9ada4665d32e9cbc219b/GoldCoast/\n",
      "  inflating: /Users/chkwon/.julia/packages/TrafficAssignment/Sk7te/TransportationNetworks-f730be5e3366e910bb7e9ada4665d32e9cbc219b/GoldCoast/Goldcoast_network_2016_01.tntp  \n",
      "  inflating: /Users/chkwon/.julia/packages/TrafficAssignment/Sk7te/TransportationNetworks-f730be5e3366e910bb7e9ada4665d32e9cbc219b/GoldCoast/Goldcoast_nodes_2016_01.tntp  \n",
      "  inflating: /Users/chkwon/.julia/packages/TrafficAssignment/Sk7te/TransportationNetworks-f730be5e3366e910bb7e9ada4665d32e9cbc219b/GoldCoast/Goldcoast_trips_2016_01.tntp  \n",
      "  inflating: /Users/chkwon/.julia/packages/TrafficAssignment/Sk7te/TransportationNetworks-f730be5e3366e910bb7e9ada4665d32e9cbc219b/GoldCoast/RE use of Sydney and Gold Coast networks.msg  \n",
      "  inflating: /Users/chkwon/.julia/packages/TrafficAssignment/Sk7te/TransportationNetworks-f730be5e3366e910bb7e9ada4665d32e9cbc219b/GoldCoast/README.md  \n",
      "   creating: /Users/chkwon/.julia/packages/TrafficAssignment/Sk7te/TransportationNetworks-f730be5e3366e910bb7e9ada4665d32e9cbc219b/Hessen-Asymmetric/\n",
      "  inflating: /Users/chkwon/.julia/packages/TrafficAssignment/Sk7te/TransportationNetworks-f730be5e3366e910bb7e9ada4665d32e9cbc219b/Hessen-Asymmetric/AsymmetricCostFunctions_Codina.pdf  \n",
      "  inflating: /Users/chkwon/.julia/packages/TrafficAssignment/Sk7te/TransportationNetworks-f730be5e3366e910bb7e9ada4665d32e9cbc219b/Hessen-Asymmetric/Hessen-Asym_net.tntp  \n",
      "  inflating: /Users/chkwon/.julia/packages/TrafficAssignment/Sk7te/TransportationNetworks-f730be5e3366e910bb7e9ada4665d32e9cbc219b/Hessen-Asymmetric/Hessen-Asym_trips.tntp  \n",
      "  inflating: /Users/chkwon/.julia/packages/TrafficAssignment/Sk7te/TransportationNetworks-f730be5e3366e910bb7e9ada4665d32e9cbc219b/Hessen-Asymmetric/README.md  \n",
      "   creating: /Users/chkwon/.julia/packages/TrafficAssignment/Sk7te/TransportationNetworks-f730be5e3366e910bb7e9ada4665d32e9cbc219b/Philadelphia/\n",
      "  inflating: /Users/chkwon/.julia/packages/TrafficAssignment/Sk7te/TransportationNetworks-f730be5e3366e910bb7e9ada4665d32e9cbc219b/Philadelphia/Philadelphia_net.tntp  \n",
      "  inflating: /Users/chkwon/.julia/packages/TrafficAssignment/Sk7te/TransportationNetworks-f730be5e3366e910bb7e9ada4665d32e9cbc219b/Philadelphia/Philadelphia_node.tntp  \n",
      "  inflating: /Users/chkwon/.julia/packages/TrafficAssignment/Sk7te/TransportationNetworks-f730be5e3366e910bb7e9ada4665d32e9cbc219b/Philadelphia/Philadelphia_toll.tntp  \n",
      "  inflating: /Users/chkwon/.julia/packages/TrafficAssignment/Sk7te/TransportationNetworks-f730be5e3366e910bb7e9ada4665d32e9cbc219b/Philadelphia/Philadelphia_trips.tntp  \n",
      "  inflating: /Users/chkwon/.julia/packages/TrafficAssignment/Sk7te/TransportationNetworks-f730be5e3366e910bb7e9ada4665d32e9cbc219b/Philadelphia/README.md  \n",
      "  inflating: /Users/chkwon/.julia/packages/TrafficAssignment/Sk7te/TransportationNetworks-f730be5e3366e910bb7e9ada4665d32e9cbc219b/README.md  \n",
      "   creating: /Users/chkwon/.julia/packages/TrafficAssignment/Sk7te/TransportationNetworks-f730be5e3366e910bb7e9ada4665d32e9cbc219b/SiouxFalls/\n",
      "  inflating: /Users/chkwon/.julia/packages/TrafficAssignment/Sk7te/TransportationNetworks-f730be5e3366e910bb7e9ada4665d32e9cbc219b/SiouxFalls/README.md  \n",
      "  inflating: /Users/chkwon/.julia/packages/TrafficAssignment/Sk7te/TransportationNetworks-f730be5e3366e910bb7e9ada4665d32e9cbc219b/SiouxFalls/Sioux-Falls-Network-Flow.pdf  \n",
      "  inflating: /Users/chkwon/.julia/packages/TrafficAssignment/Sk7te/TransportationNetworks-f730be5e3366e910bb7e9ada4665d32e9cbc219b/SiouxFalls/Sioux-Falls-Network.pdf  \n",
      "  inflating: /Users/chkwon/.julia/packages/TrafficAssignment/Sk7te/TransportationNetworks-f730be5e3366e910bb7e9ada4665d32e9cbc219b/SiouxFalls/Sioux-Falls-OD Demand.pdf  \n",
      "  inflating: /Users/chkwon/.julia/packages/TrafficAssignment/Sk7te/TransportationNetworks-f730be5e3366e910bb7e9ada4665d32e9cbc219b/SiouxFalls/SiouxFallsCoordinates.geojson  \n",
      "  inflating: /Users/chkwon/.julia/packages/TrafficAssignment/Sk7te/TransportationNetworks-f730be5e3366e910bb7e9ada4665d32e9cbc219b/SiouxFalls/SiouxFallsMap_AAA1998.jpg  \n",
      "  inflating: /Users/chkwon/.julia/packages/TrafficAssignment/Sk7te/TransportationNetworks-f730be5e3366e910bb7e9ada4665d32e9cbc219b/SiouxFalls/SiouxFalls_flow.tntp  \n",
      "  inflating: /Users/chkwon/.julia/packages/TrafficAssignment/Sk7te/TransportationNetworks-f730be5e3366e910bb7e9ada4665d32e9cbc219b/SiouxFalls/SiouxFalls_net.tntp  \n",
      "  inflating: /Users/chkwon/.julia/packages/TrafficAssignment/Sk7te/TransportationNetworks-f730be5e3366e910bb7e9ada4665d32e9cbc219b/SiouxFalls/SiouxFalls_node.tntp  \n",
      "  inflating: /Users/chkwon/.julia/packages/TrafficAssignment/Sk7te/TransportationNetworks-f730be5e3366e910bb7e9ada4665d32e9cbc219b/SiouxFalls/SiouxFalls_trips.tntp  \n",
      "   creating: /Users/chkwon/.julia/packages/TrafficAssignment/Sk7te/TransportationNetworks-f730be5e3366e910bb7e9ada4665d32e9cbc219b/Sydney/\n",
      "  inflating: /Users/chkwon/.julia/packages/TrafficAssignment/Sk7te/TransportationNetworks-f730be5e3366e910bb7e9ada4665d32e9cbc219b/Sydney/RE use of Sydney and Gold Coast networks.msg  \n",
      "  inflating: /Users/chkwon/.julia/packages/TrafficAssignment/Sk7te/TransportationNetworks-f730be5e3366e910bb7e9ada4665d32e9cbc219b/Sydney/README.md  \n"
     ]
    },
    {
     "name": "stdout",
     "output_type": "stream",
     "text": [
      "  inflating: /Users/chkwon/.julia/packages/TrafficAssignment/Sk7te/TransportationNetworks-f730be5e3366e910bb7e9ada4665d32e9cbc219b/Sydney/Sydney_net.tntp  \n",
      "  inflating: /Users/chkwon/.julia/packages/TrafficAssignment/Sk7te/TransportationNetworks-f730be5e3366e910bb7e9ada4665d32e9cbc219b/Sydney/Sydney_node.tntp  \n",
      "  inflating: /Users/chkwon/.julia/packages/TrafficAssignment/Sk7te/TransportationNetworks-f730be5e3366e910bb7e9ada4665d32e9cbc219b/Sydney/Sydney_trips.tntp.zip  \n",
      "   creating: /Users/chkwon/.julia/packages/TrafficAssignment/Sk7te/TransportationNetworks-f730be5e3366e910bb7e9ada4665d32e9cbc219b/SymmetricaTestCase/\n",
      "  inflating: /Users/chkwon/.julia/packages/TrafficAssignment/Sk7te/TransportationNetworks-f730be5e3366e910bb7e9ada4665d32e9cbc219b/SymmetricaTestCase/ConventionalVehiclesMultiModal.csv  \n",
      "  inflating: /Users/chkwon/.julia/packages/TrafficAssignment/Sk7te/TransportationNetworks-f730be5e3366e910bb7e9ada4665d32e9cbc219b/SymmetricaTestCase/ElectricVehiclesMultiModal.csv  \n",
      "   creating: /Users/chkwon/.julia/packages/TrafficAssignment/Sk7te/TransportationNetworks-f730be5e3366e910bb7e9ada4665d32e9cbc219b/SymmetricaTestCase/Powergrid/\n",
      "  inflating: /Users/chkwon/.julia/packages/TrafficAssignment/Sk7te/TransportationNetworks-f730be5e3366e910bb7e9ada4665d32e9cbc219b/SymmetricaTestCase/Powergrid/201Bus-BranchData.csv  \n",
      "  inflating: /Users/chkwon/.julia/packages/TrafficAssignment/Sk7te/TransportationNetworks-f730be5e3366e910bb7e9ada4665d32e9cbc219b/SymmetricaTestCase/Powergrid/201Bus-BusData.csv  \n",
      "  inflating: /Users/chkwon/.julia/packages/TrafficAssignment/Sk7te/TransportationNetworks-f730be5e3366e910bb7e9ada4665d32e9cbc219b/SymmetricaTestCase/Powergrid/201Bus-GenCData.csv  \n",
      "  inflating: /Users/chkwon/.julia/packages/TrafficAssignment/Sk7te/TransportationNetworks-f730be5e3366e910bb7e9ada4665d32e9cbc219b/SymmetricaTestCase/Powergrid/201Bus-GenSData.csv  \n",
      "  inflating: /Users/chkwon/.julia/packages/TrafficAssignment/Sk7te/TransportationNetworks-f730be5e3366e910bb7e9ada4665d32e9cbc219b/SymmetricaTestCase/Powergrid/201Bus-LoadCData.csv  \n",
      "  inflating: /Users/chkwon/.julia/packages/TrafficAssignment/Sk7te/TransportationNetworks-f730be5e3366e910bb7e9ada4665d32e9cbc219b/SymmetricaTestCase/Powergrid/201Bus-LoadSData.csv  \n",
      "  inflating: /Users/chkwon/.julia/packages/TrafficAssignment/Sk7te/TransportationNetworks-f730be5e3366e910bb7e9ada4665d32e9cbc219b/SymmetricaTestCase/Powergrid/201Bus-StorageCData.csv  \n",
      "  inflating: /Users/chkwon/.julia/packages/TrafficAssignment/Sk7te/TransportationNetworks-f730be5e3366e910bb7e9ada4665d32e9cbc219b/SymmetricaTestCase/Powergrid/201Bus-StorageSData.csv  \n",
      "  inflating: /Users/chkwon/.julia/packages/TrafficAssignment/Sk7te/TransportationNetworks-f730be5e3366e910bb7e9ada4665d32e9cbc219b/SymmetricaTestCase/README.md  \n",
      "  inflating: /Users/chkwon/.julia/packages/TrafficAssignment/Sk7te/TransportationNetworks-f730be5e3366e910bb7e9ada4665d32e9cbc219b/SymmetricaTestCase/SymmetricaE.pdf  \n",
      "  inflating: /Users/chkwon/.julia/packages/TrafficAssignment/Sk7te/TransportationNetworks-f730be5e3366e910bb7e9ada4665d32e9cbc219b/SymmetricaTestCase/TransportationLinksConventional.csv  \n",
      "  inflating: /Users/chkwon/.julia/packages/TrafficAssignment/Sk7te/TransportationNetworks-f730be5e3366e910bb7e9ada4665d32e9cbc219b/SymmetricaTestCase/TransportationLinksElectric.csv  \n",
      "  inflating: /Users/chkwon/.julia/packages/TrafficAssignment/Sk7te/TransportationNetworks-f730be5e3366e910bb7e9ada4665d32e9cbc219b/SymmetricaTestCase/TransportationStationsConventional.csv  \n",
      "  inflating: /Users/chkwon/.julia/packages/TrafficAssignment/Sk7te/TransportationNetworks-f730be5e3366e910bb7e9ada4665d32e9cbc219b/SymmetricaTestCase/TransportationStationsElectric.csv  \n",
      "  inflating: /Users/chkwon/.julia/packages/TrafficAssignment/Sk7te/TransportationNetworks-f730be5e3366e910bb7e9ada4665d32e9cbc219b/SymmetricaTestCase/trafficDemandMultiModal.csv  \n",
      "   creating: /Users/chkwon/.julia/packages/TrafficAssignment/Sk7te/TransportationNetworks-f730be5e3366e910bb7e9ada4665d32e9cbc219b/Terrassa-Asymmetric/\n",
      "  inflating: /Users/chkwon/.julia/packages/TrafficAssignment/Sk7te/TransportationNetworks-f730be5e3366e910bb7e9ada4665d32e9cbc219b/Terrassa-Asymmetric/AsymmetricCostFunctions_Codina.pdf  \n",
      "  inflating: /Users/chkwon/.julia/packages/TrafficAssignment/Sk7te/TransportationNetworks-f730be5e3366e910bb7e9ada4665d32e9cbc219b/Terrassa-Asymmetric/README.md  \n",
      "  inflating: /Users/chkwon/.julia/packages/TrafficAssignment/Sk7te/TransportationNetworks-f730be5e3366e910bb7e9ada4665d32e9cbc219b/Terrassa-Asymmetric/Terrassa-Asym_net.tntp  \n",
      "  inflating: /Users/chkwon/.julia/packages/TrafficAssignment/Sk7te/TransportationNetworks-f730be5e3366e910bb7e9ada4665d32e9cbc219b/Terrassa-Asymmetric/Terrassa-Asym_trips.tntp  \n",
      "   creating: /Users/chkwon/.julia/packages/TrafficAssignment/Sk7te/TransportationNetworks-f730be5e3366e910bb7e9ada4665d32e9cbc219b/Winnipeg-Asymmetric/\n",
      "  inflating: /Users/chkwon/.julia/packages/TrafficAssignment/Sk7te/TransportationNetworks-f730be5e3366e910bb7e9ada4665d32e9cbc219b/Winnipeg-Asymmetric/AsymmetricCostFunctions_Codina.pdf  \n",
      "  inflating: /Users/chkwon/.julia/packages/TrafficAssignment/Sk7te/TransportationNetworks-f730be5e3366e910bb7e9ada4665d32e9cbc219b/Winnipeg-Asymmetric/README.md  \n",
      "  inflating: /Users/chkwon/.julia/packages/TrafficAssignment/Sk7te/TransportationNetworks-f730be5e3366e910bb7e9ada4665d32e9cbc219b/Winnipeg-Asymmetric/Winnipeg-Asym_net.tntp  \n",
      "  inflating: /Users/chkwon/.julia/packages/TrafficAssignment/Sk7te/TransportationNetworks-f730be5e3366e910bb7e9ada4665d32e9cbc219b/Winnipeg-Asymmetric/Winnipeg-Asym_trips.tntp  \n",
      "   creating: /Users/chkwon/.julia/packages/TrafficAssignment/Sk7te/TransportationNetworks-f730be5e3366e910bb7e9ada4665d32e9cbc219b/Winnipeg/\n",
      "  inflating: /Users/chkwon/.julia/packages/TrafficAssignment/Sk7te/TransportationNetworks-f730be5e3366e910bb7e9ada4665d32e9cbc219b/Winnipeg/README.md  \n",
      "  inflating: /Users/chkwon/.julia/packages/TrafficAssignment/Sk7te/TransportationNetworks-f730be5e3366e910bb7e9ada4665d32e9cbc219b/Winnipeg/Winnipeg_flow.tntp  \n",
      "  inflating: /Users/chkwon/.julia/packages/TrafficAssignment/Sk7te/TransportationNetworks-f730be5e3366e910bb7e9ada4665d32e9cbc219b/Winnipeg/Winnipeg_net.tntp  \n",
      "  inflating: /Users/chkwon/.julia/packages/TrafficAssignment/Sk7te/TransportationNetworks-f730be5e3366e910bb7e9ada4665d32e9cbc219b/Winnipeg/Winnipeg_trips.tntp  \n",
      "   creating: /Users/chkwon/.julia/packages/TrafficAssignment/Sk7te/TransportationNetworks-f730be5e3366e910bb7e9ada4665d32e9cbc219b/_scripts/\n",
      "  inflating: /Users/chkwon/.julia/packages/TrafficAssignment/Sk7te/TransportationNetworks-f730be5e3366e910bb7e9ada4665d32e9cbc219b/_scripts/parsing networks.ipynb  \n",
      "   creating: /Users/chkwon/.julia/packages/TrafficAssignment/Sk7te/TransportationNetworks-f730be5e3366e910bb7e9ada4665d32e9cbc219b/chicago-regional/\n",
      "  inflating: /Users/chkwon/.julia/packages/TrafficAssignment/Sk7te/TransportationNetworks-f730be5e3366e910bb7e9ada4665d32e9cbc219b/chicago-regional/ChicagoRegional_flow.tntp  \n",
      "  inflating: /Users/chkwon/.julia/packages/TrafficAssignment/Sk7te/TransportationNetworks-f730be5e3366e910bb7e9ada4665d32e9cbc219b/chicago-regional/ChicagoRegional_net.tntp  \n",
      "  inflating: /Users/chkwon/.julia/packages/TrafficAssignment/Sk7te/TransportationNetworks-f730be5e3366e910bb7e9ada4665d32e9cbc219b/chicago-regional/ChicagoRegional_node.tntp  \n",
      "  inflating: /Users/chkwon/.julia/packages/TrafficAssignment/Sk7te/TransportationNetworks-f730be5e3366e910bb7e9ada4665d32e9cbc219b/chicago-regional/ChicagoRegional_trips.tntp  \n",
      "  inflating: /Users/chkwon/.julia/packages/TrafficAssignment/Sk7te/TransportationNetworks-f730be5e3366e910bb7e9ada4665d32e9cbc219b/chicago-regional/README.md  \n",
      "Archive:  /Users/chkwon/.julia/packages/TrafficAssignment/Sk7te/TransportationNetworks-f730be5e3366e910bb7e9ada4665d32e9cbc219b/Sydney/Sydney_trips.tntp.zip\n",
      "  inflating: /Users/chkwon/.julia/packages/TrafficAssignment/Sk7te/TransportationNetworks-f730be5e3366e910bb7e9ada4665d32e9cbc219b/Sydney/Sydney_trips.tntp  "
     ]
    },
    {
     "data": {
      "text/html": [
       "<table class=\"data-frame\"><thead><tr><th></th><th>Network</th><th>Zones</th><th>Links</th><th>Nodes</th></tr><tr><th></th><th>String</th><th>Int64</th><th>Int64</th><th>Int64</th></tr></thead><tbody><p>22 rows × 4 columns</p><tr><th>1</th><td>Anaheim</td><td>38</td><td>914</td><td>416</td></tr><tr><th>2</th><td>Austin</td><td>7388</td><td>18961</td><td>7388</td></tr><tr><th>3</th><td>Barcelona</td><td>110</td><td>2522</td><td>1020</td></tr><tr><th>4</th><td>Berlin-Center</td><td>865</td><td>28376</td><td>12981</td></tr><tr><th>5</th><td>Berlin-Friedrichshain</td><td>23</td><td>523</td><td>224</td></tr><tr><th>6</th><td>Berlin-Mitte-Center</td><td>36</td><td>871</td><td>398</td></tr><tr><th>7</th><td>Berlin-Mitte-Prenzlauerberg-Friedrichshain-Center</td><td>98</td><td>2184</td><td>975</td></tr><tr><th>8</th><td>Berlin-Prenzlauerberg-Center</td><td>38</td><td>749</td><td>352</td></tr><tr><th>9</th><td>Berlin-Tiergarten</td><td>26</td><td>766</td><td>361</td></tr><tr><th>10</th><td>Birmingham-England</td><td>898</td><td>33937</td><td>14639</td></tr><tr><th>11</th><td>Braess-Example</td><td>2</td><td>5</td><td>4</td></tr><tr><th>12</th><td>Chicago-Sketch</td><td>387</td><td>2950</td><td>933</td></tr><tr><th>13</th><td>Eastern-Massachusetts</td><td>74</td><td>258</td><td>74</td></tr><tr><th>14</th><td>GoldCoast</td><td>1068</td><td>11140</td><td>4807</td></tr><tr><th>15</th><td>Hessen-Asymmetric</td><td>245</td><td>6674</td><td>4660</td></tr><tr><th>16</th><td>Philadelphia</td><td>1525</td><td>40003</td><td>13389</td></tr><tr><th>17</th><td>SiouxFalls</td><td>24</td><td>76</td><td>24</td></tr><tr><th>18</th><td>Sydney</td><td>3264</td><td>75379</td><td>33113</td></tr><tr><th>19</th><td>Terrassa-Asymmetric</td><td>55</td><td>3264</td><td>1609</td></tr><tr><th>20</th><td>Winnipeg</td><td>147</td><td>2836</td><td>1052</td></tr><tr><th>21</th><td>Winnipeg-Asymmetric</td><td>154</td><td>2535</td><td>1057</td></tr><tr><th>22</th><td>chicago-regional</td><td>1790</td><td>39018</td><td>12982</td></tr></tbody></table>"
      ],
      "text/latex": [
       "\\begin{tabular}{r|cccc}\n",
       "\t& Network & Zones & Links & Nodes\\\\\n",
       "\t\\hline\n",
       "\t& String & Int64 & Int64 & Int64\\\\\n",
       "\t\\hline\n",
       "\t1 & Anaheim & 38 & 914 & 416 \\\\\n",
       "\t2 & Austin & 7388 & 18961 & 7388 \\\\\n",
       "\t3 & Barcelona & 110 & 2522 & 1020 \\\\\n",
       "\t4 & Berlin-Center & 865 & 28376 & 12981 \\\\\n",
       "\t5 & Berlin-Friedrichshain & 23 & 523 & 224 \\\\\n",
       "\t6 & Berlin-Mitte-Center & 36 & 871 & 398 \\\\\n",
       "\t7 & Berlin-Mitte-Prenzlauerberg-Friedrichshain-Center & 98 & 2184 & 975 \\\\\n",
       "\t8 & Berlin-Prenzlauerberg-Center & 38 & 749 & 352 \\\\\n",
       "\t9 & Berlin-Tiergarten & 26 & 766 & 361 \\\\\n",
       "\t10 & Birmingham-England & 898 & 33937 & 14639 \\\\\n",
       "\t11 & Braess-Example & 2 & 5 & 4 \\\\\n",
       "\t12 & Chicago-Sketch & 387 & 2950 & 933 \\\\\n",
       "\t13 & Eastern-Massachusetts & 74 & 258 & 74 \\\\\n",
       "\t14 & GoldCoast & 1068 & 11140 & 4807 \\\\\n",
       "\t15 & Hessen-Asymmetric & 245 & 6674 & 4660 \\\\\n",
       "\t16 & Philadelphia & 1525 & 40003 & 13389 \\\\\n",
       "\t17 & SiouxFalls & 24 & 76 & 24 \\\\\n",
       "\t18 & Sydney & 3264 & 75379 & 33113 \\\\\n",
       "\t19 & Terrassa-Asymmetric & 55 & 3264 & 1609 \\\\\n",
       "\t20 & Winnipeg & 147 & 2836 & 1052 \\\\\n",
       "\t21 & Winnipeg-Asymmetric & 154 & 2535 & 1057 \\\\\n",
       "\t22 & chicago-regional & 1790 & 39018 & 12982 \\\\\n",
       "\\end{tabular}\n"
      ],
      "text/plain": [
       "22×4 DataFrames.DataFrame. Omitted printing of 1 columns\n",
       "│ Row │ Network                                           │ Zones │ Links │\n",
       "│     │ \u001b[90mString\u001b[39m                                            │ \u001b[90mInt64\u001b[39m │ \u001b[90mInt64\u001b[39m │\n",
       "├─────┼───────────────────────────────────────────────────┼───────┼───────┤\n",
       "│ 1   │ Anaheim                                           │ 38    │ 914   │\n",
       "│ 2   │ Austin                                            │ 7388  │ 18961 │\n",
       "│ 3   │ Barcelona                                         │ 110   │ 2522  │\n",
       "│ 4   │ Berlin-Center                                     │ 865   │ 28376 │\n",
       "│ 5   │ Berlin-Friedrichshain                             │ 23    │ 523   │\n",
       "│ 6   │ Berlin-Mitte-Center                               │ 36    │ 871   │\n",
       "│ 7   │ Berlin-Mitte-Prenzlauerberg-Friedrichshain-Center │ 98    │ 2184  │\n",
       "│ 8   │ Berlin-Prenzlauerberg-Center                      │ 38    │ 749   │\n",
       "│ 9   │ Berlin-Tiergarten                                 │ 26    │ 766   │\n",
       "│ 10  │ Birmingham-England                                │ 898   │ 33937 │\n",
       "│ 11  │ Braess-Example                                    │ 2     │ 5     │\n",
       "│ 12  │ Chicago-Sketch                                    │ 387   │ 2950  │\n",
       "│ 13  │ Eastern-Massachusetts                             │ 74    │ 258   │\n",
       "│ 14  │ GoldCoast                                         │ 1068  │ 11140 │\n",
       "│ 15  │ Hessen-Asymmetric                                 │ 245   │ 6674  │\n",
       "│ 16  │ Philadelphia                                      │ 1525  │ 40003 │\n",
       "│ 17  │ SiouxFalls                                        │ 24    │ 76    │\n",
       "│ 18  │ Sydney                                            │ 3264  │ 75379 │\n",
       "│ 19  │ Terrassa-Asymmetric                               │ 55    │ 3264  │\n",
       "│ 20  │ Winnipeg                                          │ 147   │ 2836  │\n",
       "│ 21  │ Winnipeg-Asymmetric                               │ 154   │ 2535  │\n",
       "│ 22  │ chicago-regional                                  │ 1790  │ 39018 │"
      ]
     },
     "metadata": {},
     "output_type": "display_data"
    },
    {
     "name": "stdout",
     "output_type": "stream",
     "text": [
      "\n",
      "   creating: /Users/chkwon/.julia/packages/TrafficAssignment/Sk7te/TransportationNetworks-f730be5e3366e910bb7e9ada4665d32e9cbc219b/Sydney/__MACOSX/\n",
      "  inflating: /Users/chkwon/.julia/packages/TrafficAssignment/Sk7te/TransportationNetworks-f730be5e3366e910bb7e9ada4665d32e9cbc219b/Sydney/__MACOSX/._Sydney_trips.tntp  \n"
     ]
    }
   ],
   "source": [
    "# importing the package. \n",
    "# It will be compiled when it is run for the first time.\n",
    "# It will download TransportationNetworks datasets automatically.\n",
    "\n",
    "using TrafficAssignment"
   ]
  },
  {
   "cell_type": "code",
   "execution_count": null,
   "metadata": {},
   "outputs": [],
   "source": [
    "# see what datasets are available \n",
    "df = summarize_ta_data()  # This returns a Julia DataFrame type\n",
    "display(df)"
   ]
  },
  {
   "cell_type": "code",
   "execution_count": 3,
   "metadata": {},
   "outputs": [
    {
     "name": "stdout",
     "output_type": "stream",
     "text": [
      "--------------------------------------------------------------------------------\n",
      "| Network                                            | Zones | Links  | Nodes  |\n",
      "| :---                                               | ---:  | ---:   | ---:   |\n",
      "| Anaheim                                            |    38 |    914 |    416 |\n",
      "| Austin                                             |  7388 |  18961 |   7388 |\n",
      "| Barcelona                                          |   110 |   2522 |   1020 |\n",
      "| Berlin-Center                                      |   865 |  28376 |  12981 |\n",
      "| Berlin-Friedrichshain                              |    23 |    523 |    224 |\n",
      "| Berlin-Mitte-Center                                |    36 |    871 |    398 |\n",
      "| Berlin-Mitte-Prenzlauerberg-Friedrichshain-Center  |    98 |   2184 |    975 |\n",
      "| Berlin-Prenzlauerberg-Center                       |    38 |    749 |    352 |\n",
      "| Berlin-Tiergarten                                  |    26 |    766 |    361 |\n",
      "| Birmingham-England                                 |   898 |  33937 |  14639 |\n",
      "| Braess-Example                                     |     2 |      5 |      4 |\n",
      "| Chicago-Sketch                                     |   387 |   2950 |    933 |\n",
      "| Eastern-Massachusetts                              |    74 |    258 |     74 |\n",
      "| GoldCoast                                          |  1068 |  11140 |   4807 |\n",
      "| Hessen-Asymmetric                                  |   245 |   6674 |   4660 |\n",
      "| Philadelphia                                       |  1525 |  40003 |  13389 |\n",
      "| SiouxFalls                                         |    24 |     76 |     24 |\n",
      "| Sydney                                             |  3264 |  75379 |  33113 |\n",
      "| Terrassa-Asymmetric                                |    55 |   3264 |   1609 |\n",
      "| Winnipeg                                           |   147 |   2836 |   1052 |\n",
      "| Winnipeg-Asymmetric                                |   154 |   2535 |   1057 |\n",
      "| chicago-regional                                   |  1790 |  39018 |  12982 |\n",
      "--------------------------------------------------------------------------------\n"
     ]
    }
   ],
   "source": [
    "# printing the same information in markdown format:\n",
    "summarize_ta_data(markdown=true)"
   ]
  },
  {
   "cell_type": "code",
   "execution_count": 4,
   "metadata": {},
   "outputs": [
    {
     "name": "stdout",
     "output_type": "stream",
     "text": [
      "typeof(td) = TA_Data\n"
     ]
    },
    {
     "data": {
      "text/plain": [
       "(:network_name, :number_of_zones, :number_of_nodes, :first_thru_node, :number_of_links, :init_node, :term_node, :capacity, :link_length, :free_flow_time, :b, :power, :speed_limit, :toll, :link_type, :total_od_flow, :travel_demand, :od_pairs, :toll_factor, :distance_factor, :best_objective)"
      ]
     },
     "execution_count": 4,
     "metadata": {},
     "output_type": "execute_result"
    }
   ],
   "source": [
    "# Loading Braess-Example network, for example\n",
    "td = load_ta_network(\"Braess-Example\")\n",
    "@show typeof(td)       # The datatype of td is TA_Data\n",
    "fieldnames(typeof(td)) # Check the fieldnames of TA_Data"
   ]
  },
  {
   "cell_type": "code",
   "execution_count": 5,
   "metadata": {},
   "outputs": [
    {
     "name": "stdout",
     "output_type": "stream",
     "text": [
      "td.network_name = \"Braess-Example\"\n",
      "td.number_of_zones = 2\n",
      "td.first_thru_node = 1\n"
     ]
    }
   ],
   "source": [
    "# meta information\n",
    "@show td.network_name\n",
    "@show td.number_of_zones\n",
    "@show td.first_thru_node\n",
    "; # and so on... "
   ]
  },
  {
   "cell_type": "code",
   "execution_count": 6,
   "metadata": {},
   "outputs": [
    {
     "name": "stdout",
     "output_type": "stream",
     "text": [
      "td.init_node = [1, 1, 3, 3, 4]\n",
      "td.term_node = [3, 4, 2, 4, 2]\n",
      "td.capacity = [1.0, 1.0, 1.0, 1.0, 1.0]\n",
      "td.link_length = [100.0, 100.0, 100.0, 100.0, 100.0]\n"
     ]
    }
   ],
   "source": [
    "# <network>_net.tntip file information\n",
    "@show td.init_node\n",
    "@show td.term_node\n",
    "@show td.capacity\n",
    "@show td.link_length\n",
    "; # and so on... "
   ]
  },
  {
   "cell_type": "code",
   "execution_count": 7,
   "metadata": {},
   "outputs": [
    {
     "name": "stdout",
     "output_type": "stream",
     "text": [
      "td.travel_demand = [0.0 6.0; 0.0 0.0]\n",
      "td.od_pairs = Tuple{Int64,Int64}[(1, 1), (1, 2)]\n",
      "td.travel_demand[1, 2] = 6.0\n"
     ]
    }
   ],
   "source": [
    "# <network>_trips.tntp file information\n",
    "@show td.travel_demand           # matrix\n",
    "@show td.od_pairs                # od_pairs\n",
    "@show td.travel_demand[1,2]      # travel demand from node 1 to node 2\n",
    "; # and so on... "
   ]
  },
  {
   "cell_type": "code",
   "execution_count": 8,
   "metadata": {},
   "outputs": [
    {
     "data": {
      "text/html": [
       "<table class=\"data-frame\"><thead><tr><th></th><th>init_node</th><th>term_node</th><th>capacity</th><th>link_length</th><th>free_flow_time</th><th>b</th><th>power</th><th>speed_limit</th></tr><tr><th></th><th>Int64</th><th>Int64</th><th>Float64</th><th>Float64</th><th>Float64</th><th>Float64</th><th>Float64</th><th>Float64</th></tr></thead><tbody><p>5 rows × 10 columns (omitted printing of 2 columns)</p><tr><th>1</th><td>1</td><td>3</td><td>1.0</td><td>100.0</td><td>1.0e-8</td><td>1.0e9</td><td>1.0</td><td>0.0</td></tr><tr><th>2</th><td>1</td><td>4</td><td>1.0</td><td>100.0</td><td>50.0</td><td>0.02</td><td>1.0</td><td>0.0</td></tr><tr><th>3</th><td>3</td><td>2</td><td>1.0</td><td>100.0</td><td>50.0</td><td>0.02</td><td>1.0</td><td>0.0</td></tr><tr><th>4</th><td>3</td><td>4</td><td>1.0</td><td>100.0</td><td>10.0</td><td>0.1</td><td>1.0</td><td>0.0</td></tr><tr><th>5</th><td>4</td><td>2</td><td>1.0</td><td>100.0</td><td>1.0e-8</td><td>1.0e9</td><td>1.0</td><td>0.0</td></tr></tbody></table>"
      ],
      "text/latex": [
       "\\begin{tabular}{r|ccccccccc}\n",
       "\t& init\\_node & term\\_node & capacity & link\\_length & free\\_flow\\_time & b & power & speed\\_limit & \\\\\n",
       "\t\\hline\n",
       "\t& Int64 & Int64 & Float64 & Float64 & Float64 & Float64 & Float64 & Float64 & \\\\\n",
       "\t\\hline\n",
       "\t1 & 1 & 3 & 1.0 & 100.0 & 1.0e-8 & 1.0e9 & 1.0 & 0.0 & $\\dots$ \\\\\n",
       "\t2 & 1 & 4 & 1.0 & 100.0 & 50.0 & 0.02 & 1.0 & 0.0 & $\\dots$ \\\\\n",
       "\t3 & 3 & 2 & 1.0 & 100.0 & 50.0 & 0.02 & 1.0 & 0.0 & $\\dots$ \\\\\n",
       "\t4 & 3 & 4 & 1.0 & 100.0 & 10.0 & 0.1 & 1.0 & 0.0 & $\\dots$ \\\\\n",
       "\t5 & 4 & 2 & 1.0 & 100.0 & 1.0e-8 & 1.0e9 & 1.0 & 0.0 & $\\dots$ \\\\\n",
       "\\end{tabular}\n"
      ],
      "text/plain": [
       "5×10 DataFrames.DataFrame. Omitted printing of 5 columns\n",
       "│ Row │ init_node │ term_node │ capacity │ link_length │ free_flow_time │\n",
       "│     │ \u001b[90mInt64\u001b[39m     │ \u001b[90mInt64\u001b[39m     │ \u001b[90mFloat64\u001b[39m  │ \u001b[90mFloat64\u001b[39m     │ \u001b[90mFloat64\u001b[39m        │\n",
       "├─────┼───────────┼───────────┼──────────┼─────────────┼────────────────┤\n",
       "│ 1   │ 1         │ 3         │ 1.0      │ 100.0       │ 1.0e-8         │\n",
       "│ 2   │ 1         │ 4         │ 1.0      │ 100.0       │ 50.0           │\n",
       "│ 3   │ 3         │ 2         │ 1.0      │ 100.0       │ 50.0           │\n",
       "│ 4   │ 3         │ 4         │ 1.0      │ 100.0       │ 10.0           │\n",
       "│ 5   │ 4         │ 2         │ 1.0      │ 100.0       │ 1.0e-8         │"
      ]
     },
     "execution_count": 8,
     "metadata": {},
     "output_type": "execute_result"
    }
   ],
   "source": [
    "# If you want <network>_net.tntp file \n",
    "# as julia DataFrame type (see: https://juliadata.github.io/DataFrames.jl)\n",
    "df = net_dataframe(td) "
   ]
  },
  {
   "cell_type": "code",
   "execution_count": 9,
   "metadata": {},
   "outputs": [
    {
     "name": "stdout",
     "output_type": "stream",
     "text": [
      "\u001b[32m\u001b[1m Resolving\u001b[22m\u001b[39m package versions...\n",
      "\u001b[32m\u001b[1m  Updating\u001b[22m\u001b[39m `~/.julia/environments/v1.3/Project.toml`\n",
      "\u001b[90m [no changes]\u001b[39m\n",
      "\u001b[32m\u001b[1m  Updating\u001b[22m\u001b[39m `~/.julia/environments/v1.3/Manifest.toml`\n",
      "\u001b[90m [no changes]\u001b[39m\n",
      "typeof(pdf) = DataFrame\n",
      "typeof(df) = DataFrames.DataFrame\n"
     ]
    },
    {
     "data": {
      "text/html": [
       "<table border=\"1\" class=\"dataframe\">\n",
       "  <thead>\n",
       "    <tr style=\"text-align: right;\">\n",
       "      <th></th>\n",
       "      <th>link_length</th>\n",
       "      <th>b</th>\n",
       "      <th>speed_limit</th>\n",
       "      <th>toll</th>\n",
       "      <th>free_flow_time</th>\n",
       "      <th>link_type</th>\n",
       "      <th>term_node</th>\n",
       "      <th>power</th>\n",
       "      <th>init_node</th>\n",
       "      <th>capacity</th>\n",
       "    </tr>\n",
       "  </thead>\n",
       "  <tbody>\n",
       "    <tr>\n",
       "      <th>0</th>\n",
       "      <td>100.0</td>\n",
       "      <td>1.000000e+09</td>\n",
       "      <td>0.0</td>\n",
       "      <td>0.0</td>\n",
       "      <td>1.000000e-08</td>\n",
       "      <td>1</td>\n",
       "      <td>3</td>\n",
       "      <td>1.0</td>\n",
       "      <td>1</td>\n",
       "      <td>1.0</td>\n",
       "    </tr>\n",
       "    <tr>\n",
       "      <th>1</th>\n",
       "      <td>100.0</td>\n",
       "      <td>2.000000e-02</td>\n",
       "      <td>0.0</td>\n",
       "      <td>0.0</td>\n",
       "      <td>5.000000e+01</td>\n",
       "      <td>1</td>\n",
       "      <td>4</td>\n",
       "      <td>1.0</td>\n",
       "      <td>1</td>\n",
       "      <td>1.0</td>\n",
       "    </tr>\n",
       "    <tr>\n",
       "      <th>2</th>\n",
       "      <td>100.0</td>\n",
       "      <td>2.000000e-02</td>\n",
       "      <td>0.0</td>\n",
       "      <td>0.0</td>\n",
       "      <td>5.000000e+01</td>\n",
       "      <td>1</td>\n",
       "      <td>2</td>\n",
       "      <td>1.0</td>\n",
       "      <td>3</td>\n",
       "      <td>1.0</td>\n",
       "    </tr>\n",
       "    <tr>\n",
       "      <th>3</th>\n",
       "      <td>100.0</td>\n",
       "      <td>1.000000e-01</td>\n",
       "      <td>0.0</td>\n",
       "      <td>0.0</td>\n",
       "      <td>1.000000e+01</td>\n",
       "      <td>1</td>\n",
       "      <td>4</td>\n",
       "      <td>1.0</td>\n",
       "      <td>3</td>\n",
       "      <td>1.0</td>\n",
       "    </tr>\n",
       "    <tr>\n",
       "      <th>4</th>\n",
       "      <td>100.0</td>\n",
       "      <td>1.000000e+09</td>\n",
       "      <td>0.0</td>\n",
       "      <td>0.0</td>\n",
       "      <td>1.000000e-08</td>\n",
       "      <td>1</td>\n",
       "      <td>2</td>\n",
       "      <td>1.0</td>\n",
       "      <td>4</td>\n",
       "      <td>1.0</td>\n",
       "    </tr>\n",
       "  </tbody>\n",
       "</table>\n"
      ],
      "text/plain": [
       "   link_length             b  speed_limit  ...  power  init_node  capacity\n",
       "0        100.0  1.000000e+09          0.0  ...    1.0          1       1.0\n",
       "1        100.0  2.000000e-02          0.0  ...    1.0          1       1.0\n",
       "2        100.0  2.000000e-02          0.0  ...    1.0          3       1.0\n",
       "3        100.0  1.000000e-01          0.0  ...    1.0          3       1.0\n",
       "4        100.0  1.000000e+09          0.0  ...    1.0          4       1.0\n",
       "\n",
       "[5 rows x 10 columns]\n"
      ]
     },
     "execution_count": 9,
     "metadata": {},
     "output_type": "execute_result"
    }
   ],
   "source": [
    "# If you have pandas python library available in your machine\n",
    "# You can convert DataFrames.DataFrame to Pandas.DataFrame\n",
    "# See https://github.com/JuliaPy/Pandas.jl\n",
    "\n",
    "using Pkg; Pkg.add(\"Pandas\")\n",
    "\n",
    "using Pandas\n",
    "pdf = Pandas.DataFrame(df)\n",
    "\n",
    "@show typeof(pdf)\n",
    "@show typeof(df)\n",
    "\n",
    "head(pdf)"
   ]
  },
  {
   "cell_type": "code",
   "execution_count": 10,
   "metadata": {},
   "outputs": [
    {
     "data": {
      "text/html": [
       "Index(['link_length', 'b', 'speed_limit', 'toll', 'free_flow_time',\n",
       "       'link_type', 'term_node', 'power', 'init_node', 'capacity'],\n",
       "      dtype='object')\n"
      ],
      "text/plain": [
       "Index(['link_length', 'b', 'speed_limit', 'toll', 'free_flow_time',\n",
       "       'link_type', 'term_node', 'power', 'init_node', 'capacity'],\n",
       "      dtype='object')\n"
      ]
     },
     "execution_count": 10,
     "metadata": {},
     "output_type": "execute_result"
    }
   ],
   "source": [
    "columns(pdf)"
   ]
  },
  {
   "cell_type": "code",
   "execution_count": null,
   "metadata": {},
   "outputs": [],
   "source": []
  }
 ],
 "metadata": {
  "kernelspec": {
   "display_name": "Julia 1.3.1",
   "language": "julia",
   "name": "julia-1.3"
  },
  "language_info": {
   "file_extension": ".jl",
   "mimetype": "application/julia",
   "name": "julia",
   "version": "1.3.1"
  }
 },
 "nbformat": 4,
 "nbformat_minor": 2
}
